{
 "cells": [
  {
   "cell_type": "markdown",
   "id": "8c1499c1",
   "metadata": {
    "papermill": {
     "duration": 0.041136,
     "end_time": "2022-05-17T20:03:05.982708",
     "exception": false,
     "start_time": "2022-05-17T20:03:05.941572",
     "status": "completed"
    },
    "tags": []
   },
   "source": [
    "# **Case Study: Cyclistic**\n",
    "\n",
    "How Does a Bike-Share Navigate Speedy Success?"
   ]
  },
  {
   "cell_type": "markdown",
   "id": "3369e0fc",
   "metadata": {
    "papermill": {
     "duration": 0.037647,
     "end_time": "2022-05-17T20:03:06.060017",
     "exception": false,
     "start_time": "2022-05-17T20:03:06.022370",
     "status": "completed"
    },
    "tags": []
   },
   "source": [
    "## **Introduction**\n",
    "\n",
    "This cyclistic bike-sharing analysis project is under the course of Google Professional Certification.\n",
    "\n",
    "**Scenario**\n",
    "\n",
    "The director of marketing believes the company’s future success depends on maximizing the number of annual memberships. Therefore, your team wants to understand how casual riders and annual members use Cyclistic bikes differently. From these insights, your team will design a new marketing strategy to convert casual riders into annual members. But first, Cyclistic executives must approve your recommendations, so they must be backed up with compelling data insights and professional data visualizations.\n",
    "\n",
    "**About the company**\n",
    "\n",
    "In 2016, Cyclistic launched a successful bike-share offering. Since then, the program has grown to a fleet of 5,824 bicycles that are geotracked and locked into a network of 692 stations across Chicago. The bikes can be unlocked from one station and\n",
    "returned to any other station in the system anytime.\n",
    "\n",
    "Until now, Cyclistic’s marketing strategy relied on building general awareness and appealing to broad consumer segments.\n",
    "One approach that helped make these things possible was the flexibility of its pricing plans: single-ride passes, full-day passes, and annual memberships. Customers who purchase single-ride or full-day passes are referred to as casual riders. Customers who purchase annual memberships are Cyclistic members.\n",
    "\n",
    "This analysis includes 12 months of bike-sharing data (Jan 2021 to Dec 2021). The data has been made available by\n",
    "Motivate International Inc. under this [license](https://ride.divvybikes.com/data-license-agreement).\n",
    "\n",
    "*Questions should be answered*\n",
    "\n",
    "1. How do annual members and casual riders use Cyclistic bikes differently?\n",
    "2. Why would casual riders buy Cyclistic annual memberships?\n",
    "3. How can Cyclistic use digital media to influence casual riders to become members?\n"
   ]
  },
  {
   "cell_type": "code",
   "execution_count": 1,
   "id": "26d9c2cb",
   "metadata": {
    "execution": {
     "iopub.execute_input": "2022-05-17T20:03:06.137127Z",
     "iopub.status.busy": "2022-05-17T20:03:06.136568Z",
     "iopub.status.idle": "2022-05-17T20:03:06.146024Z",
     "shell.execute_reply": "2022-05-17T20:03:06.145403Z"
    },
    "papermill": {
     "duration": 0.051265,
     "end_time": "2022-05-17T20:03:06.148398",
     "exception": false,
     "start_time": "2022-05-17T20:03:06.097133",
     "status": "completed"
    },
    "tags": []
   },
   "outputs": [],
   "source": [
    "#This is in Python 3 environment\n",
    "#Import libraries\n",
    "import pandas as pd\n",
    "import numpy as np"
   ]
  },
  {
   "cell_type": "markdown",
   "id": "78e0eeac",
   "metadata": {
    "papermill": {
     "duration": 0.036467,
     "end_time": "2022-05-17T20:03:06.226234",
     "exception": false,
     "start_time": "2022-05-17T20:03:06.189767",
     "status": "completed"
    },
    "tags": []
   },
   "source": [
    "**Collect and Wrangle Data**"
   ]
  },
  {
   "cell_type": "code",
   "execution_count": 2,
   "id": "f4ee9f94",
   "metadata": {
    "execution": {
     "iopub.execute_input": "2022-05-17T20:03:06.302634Z",
     "iopub.status.busy": "2022-05-17T20:03:06.302016Z",
     "iopub.status.idle": "2022-05-17T20:03:42.212663Z",
     "shell.execute_reply": "2022-05-17T20:03:42.211622Z"
    },
    "papermill": {
     "duration": 35.989642,
     "end_time": "2022-05-17T20:03:42.252943",
     "exception": false,
     "start_time": "2022-05-17T20:03:06.263301",
     "status": "completed"
    },
    "tags": []
   },
   "outputs": [
    {
     "name": "stdout",
     "output_type": "stream",
     "text": [
      "                 ride_id  rideable_type           started_at  \\\n",
      "0       E19E6F1B8D4C42ED  electric_bike  2021-01-23 16:14:19   \n",
      "1       DC88F20C2C55F27F  electric_bike  2021-01-27 18:43:08   \n",
      "2       EC45C94683FE3F27  electric_bike  2021-01-21 22:35:54   \n",
      "3       4FA453A75AE377DB  electric_bike  2021-01-07 13:31:13   \n",
      "4       BE5E8EB4E7263A0B  electric_bike  2021-01-23 02:24:02   \n",
      "...                  ...            ...                  ...   \n",
      "247535  847431F3D5353AB7  electric_bike  2021-12-12 13:36:55   \n",
      "247536  CF407BBC3B9FAD63  electric_bike  2021-12-06 19:37:50   \n",
      "247537  60BB69EBF5440E92  electric_bike  2021-12-02 08:57:04   \n",
      "247538  C414F654A28635B8  electric_bike  2021-12-13 09:00:26   \n",
      "247539  37AC57E34B2E7E97   classic_bike  2021-12-13 08:45:32   \n",
      "\n",
      "                   ended_at           start_station_name start_station_id  \\\n",
      "0       2021-01-23 16:24:44   California Ave & Cortez St            17660   \n",
      "1       2021-01-27 18:47:12   California Ave & Cortez St            17660   \n",
      "2       2021-01-21 22:37:14   California Ave & Cortez St            17660   \n",
      "3       2021-01-07 13:42:55   California Ave & Cortez St            17660   \n",
      "4       2021-01-23 02:24:45   California Ave & Cortez St            17660   \n",
      "...                     ...                          ...              ...   \n",
      "247535  2021-12-12 13:56:08        Canal St & Madison St            13341   \n",
      "247536  2021-12-06 19:44:51        Canal St & Madison St            13341   \n",
      "247537  2021-12-02 09:05:21        Canal St & Madison St            13341   \n",
      "247538  2021-12-13 09:14:39       Lawndale Ave & 16th St            362.0   \n",
      "247539  2021-12-13 08:49:09  Michigan Ave & Jackson Blvd     TA1309000002   \n",
      "\n",
      "                end_station_name end_station_id  start_lat  start_lng  \\\n",
      "0                            NaN            NaN  41.900341 -87.696743   \n",
      "1                            NaN            NaN  41.900333 -87.696707   \n",
      "2                            NaN            NaN  41.900313 -87.696643   \n",
      "3                            NaN            NaN  41.900399 -87.696662   \n",
      "4                            NaN            NaN  41.900326 -87.696697   \n",
      "...                          ...            ...        ...        ...   \n",
      "247535                       NaN            NaN  41.882289 -87.639752   \n",
      "247536  Kingsbury St & Kinzie St   KA1503000043  41.882123 -87.640053   \n",
      "247537   Dearborn St & Monroe St   TA1305000006  41.881956 -87.639955   \n",
      "247538                       NaN            NaN  41.860000 -87.720000   \n",
      "247539   Dearborn St & Monroe St   TA1305000006  41.877850 -87.624080   \n",
      "\n",
      "          end_lat    end_lng member_casual  \n",
      "0       41.890000 -87.720000        member  \n",
      "1       41.900000 -87.690000        member  \n",
      "2       41.900000 -87.700000        member  \n",
      "3       41.920000 -87.690000        member  \n",
      "4       41.900000 -87.700000        casual  \n",
      "...           ...        ...           ...  \n",
      "247535  41.890000 -87.610000        casual  \n",
      "247536  41.889106 -87.638862        member  \n",
      "247537  41.880254 -87.629603        member  \n",
      "247538  41.850000 -87.710000        member  \n",
      "247539  41.881320 -87.629521        member  \n",
      "\n",
      "[5595063 rows x 13 columns]\n"
     ]
    }
   ],
   "source": [
    "#Collect data and combine them into one file\n",
    "dvt = pd.concat(map(pd.read_csv, ['../input/google-da-capstone-project/202101-divvy-tripdata.csv', '../input/google-da-capstone-project/202102-divvy-tripdata.csv', '../input/google-da-capstone-project/202103-divvy-tripdata.csv',\n",
    "                                           '../input/google-da-capstone-project/202104-divvy-tripdata.csv', '../input/google-da-capstone-project/202105-divvy-tripdata.csv','../input/google-da-capstone-project/202106-divvy-tripdata.csv', '../input/google-da-capstone-project/202107-divvy-tripdata.csv',\n",
    "                                           '../input/google-da-capstone-project/202108-divvy-tripdata.csv', '../input/google-da-capstone-project/202109-divvy-tripdata.csv',\n",
    "                                           '../input/google-da-capstone-project/202110-divvy-tripdata.csv', '../input/google-da-capstone-project/202111-divvy-tripdata.csv', \n",
    "                                           '../input/google-da-capstone-project/202112-divvy-tripdata.csv']), ignore_index = False)\n",
    "print(dvt)"
   ]
  },
  {
   "cell_type": "code",
   "execution_count": 3,
   "id": "9fe1e0f4",
   "metadata": {
    "execution": {
     "iopub.execute_input": "2022-05-17T20:03:42.329341Z",
     "iopub.status.busy": "2022-05-17T20:03:42.329013Z",
     "iopub.status.idle": "2022-05-17T20:03:42.352068Z",
     "shell.execute_reply": "2022-05-17T20:03:42.351198Z"
    },
    "papermill": {
     "duration": 0.063883,
     "end_time": "2022-05-17T20:03:42.354065",
     "exception": false,
     "start_time": "2022-05-17T20:03:42.290182",
     "status": "completed"
    },
    "tags": []
   },
   "outputs": [
    {
     "data": {
      "text/html": [
       "<div>\n",
       "<style scoped>\n",
       "    .dataframe tbody tr th:only-of-type {\n",
       "        vertical-align: middle;\n",
       "    }\n",
       "\n",
       "    .dataframe tbody tr th {\n",
       "        vertical-align: top;\n",
       "    }\n",
       "\n",
       "    .dataframe thead th {\n",
       "        text-align: right;\n",
       "    }\n",
       "</style>\n",
       "<table border=\"1\" class=\"dataframe\">\n",
       "  <thead>\n",
       "    <tr style=\"text-align: right;\">\n",
       "      <th></th>\n",
       "      <th>ride_id</th>\n",
       "      <th>rideable_type</th>\n",
       "      <th>started_at</th>\n",
       "      <th>ended_at</th>\n",
       "      <th>start_station_name</th>\n",
       "      <th>start_station_id</th>\n",
       "      <th>end_station_name</th>\n",
       "      <th>end_station_id</th>\n",
       "      <th>start_lat</th>\n",
       "      <th>start_lng</th>\n",
       "      <th>end_lat</th>\n",
       "      <th>end_lng</th>\n",
       "      <th>member_casual</th>\n",
       "    </tr>\n",
       "  </thead>\n",
       "  <tbody>\n",
       "    <tr>\n",
       "      <th>0</th>\n",
       "      <td>E19E6F1B8D4C42ED</td>\n",
       "      <td>electric_bike</td>\n",
       "      <td>2021-01-23 16:14:19</td>\n",
       "      <td>2021-01-23 16:24:44</td>\n",
       "      <td>California Ave &amp; Cortez St</td>\n",
       "      <td>17660</td>\n",
       "      <td>NaN</td>\n",
       "      <td>NaN</td>\n",
       "      <td>41.900341</td>\n",
       "      <td>-87.696743</td>\n",
       "      <td>41.89</td>\n",
       "      <td>-87.72</td>\n",
       "      <td>member</td>\n",
       "    </tr>\n",
       "    <tr>\n",
       "      <th>1</th>\n",
       "      <td>DC88F20C2C55F27F</td>\n",
       "      <td>electric_bike</td>\n",
       "      <td>2021-01-27 18:43:08</td>\n",
       "      <td>2021-01-27 18:47:12</td>\n",
       "      <td>California Ave &amp; Cortez St</td>\n",
       "      <td>17660</td>\n",
       "      <td>NaN</td>\n",
       "      <td>NaN</td>\n",
       "      <td>41.900333</td>\n",
       "      <td>-87.696707</td>\n",
       "      <td>41.90</td>\n",
       "      <td>-87.69</td>\n",
       "      <td>member</td>\n",
       "    </tr>\n",
       "    <tr>\n",
       "      <th>2</th>\n",
       "      <td>EC45C94683FE3F27</td>\n",
       "      <td>electric_bike</td>\n",
       "      <td>2021-01-21 22:35:54</td>\n",
       "      <td>2021-01-21 22:37:14</td>\n",
       "      <td>California Ave &amp; Cortez St</td>\n",
       "      <td>17660</td>\n",
       "      <td>NaN</td>\n",
       "      <td>NaN</td>\n",
       "      <td>41.900313</td>\n",
       "      <td>-87.696643</td>\n",
       "      <td>41.90</td>\n",
       "      <td>-87.70</td>\n",
       "      <td>member</td>\n",
       "    </tr>\n",
       "    <tr>\n",
       "      <th>3</th>\n",
       "      <td>4FA453A75AE377DB</td>\n",
       "      <td>electric_bike</td>\n",
       "      <td>2021-01-07 13:31:13</td>\n",
       "      <td>2021-01-07 13:42:55</td>\n",
       "      <td>California Ave &amp; Cortez St</td>\n",
       "      <td>17660</td>\n",
       "      <td>NaN</td>\n",
       "      <td>NaN</td>\n",
       "      <td>41.900399</td>\n",
       "      <td>-87.696662</td>\n",
       "      <td>41.92</td>\n",
       "      <td>-87.69</td>\n",
       "      <td>member</td>\n",
       "    </tr>\n",
       "    <tr>\n",
       "      <th>4</th>\n",
       "      <td>BE5E8EB4E7263A0B</td>\n",
       "      <td>electric_bike</td>\n",
       "      <td>2021-01-23 02:24:02</td>\n",
       "      <td>2021-01-23 02:24:45</td>\n",
       "      <td>California Ave &amp; Cortez St</td>\n",
       "      <td>17660</td>\n",
       "      <td>NaN</td>\n",
       "      <td>NaN</td>\n",
       "      <td>41.900326</td>\n",
       "      <td>-87.696697</td>\n",
       "      <td>41.90</td>\n",
       "      <td>-87.70</td>\n",
       "      <td>casual</td>\n",
       "    </tr>\n",
       "  </tbody>\n",
       "</table>\n",
       "</div>"
      ],
      "text/plain": [
       "            ride_id  rideable_type           started_at             ended_at  \\\n",
       "0  E19E6F1B8D4C42ED  electric_bike  2021-01-23 16:14:19  2021-01-23 16:24:44   \n",
       "1  DC88F20C2C55F27F  electric_bike  2021-01-27 18:43:08  2021-01-27 18:47:12   \n",
       "2  EC45C94683FE3F27  electric_bike  2021-01-21 22:35:54  2021-01-21 22:37:14   \n",
       "3  4FA453A75AE377DB  electric_bike  2021-01-07 13:31:13  2021-01-07 13:42:55   \n",
       "4  BE5E8EB4E7263A0B  electric_bike  2021-01-23 02:24:02  2021-01-23 02:24:45   \n",
       "\n",
       "           start_station_name start_station_id end_station_name  \\\n",
       "0  California Ave & Cortez St            17660              NaN   \n",
       "1  California Ave & Cortez St            17660              NaN   \n",
       "2  California Ave & Cortez St            17660              NaN   \n",
       "3  California Ave & Cortez St            17660              NaN   \n",
       "4  California Ave & Cortez St            17660              NaN   \n",
       "\n",
       "  end_station_id  start_lat  start_lng  end_lat  end_lng member_casual  \n",
       "0            NaN  41.900341 -87.696743    41.89   -87.72        member  \n",
       "1            NaN  41.900333 -87.696707    41.90   -87.69        member  \n",
       "2            NaN  41.900313 -87.696643    41.90   -87.70        member  \n",
       "3            NaN  41.900399 -87.696662    41.92   -87.69        member  \n",
       "4            NaN  41.900326 -87.696697    41.90   -87.70        casual  "
      ]
     },
     "execution_count": 3,
     "metadata": {},
     "output_type": "execute_result"
    }
   ],
   "source": [
    "#Look up the first five rows of dataframe\n",
    "dvt.head()"
   ]
  },
  {
   "cell_type": "code",
   "execution_count": 4,
   "id": "7066555e",
   "metadata": {
    "execution": {
     "iopub.execute_input": "2022-05-17T20:03:42.432147Z",
     "iopub.status.busy": "2022-05-17T20:03:42.431821Z",
     "iopub.status.idle": "2022-05-17T20:03:44.721390Z",
     "shell.execute_reply": "2022-05-17T20:03:44.720435Z"
    },
    "papermill": {
     "duration": 2.331589,
     "end_time": "2022-05-17T20:03:44.723837",
     "exception": false,
     "start_time": "2022-05-17T20:03:42.392248",
     "status": "completed"
    },
    "tags": []
   },
   "outputs": [
    {
     "data": {
      "text/html": [
       "<div>\n",
       "<style scoped>\n",
       "    .dataframe tbody tr th:only-of-type {\n",
       "        vertical-align: middle;\n",
       "    }\n",
       "\n",
       "    .dataframe tbody tr th {\n",
       "        vertical-align: top;\n",
       "    }\n",
       "\n",
       "    .dataframe thead th {\n",
       "        text-align: right;\n",
       "    }\n",
       "</style>\n",
       "<table border=\"1\" class=\"dataframe\">\n",
       "  <thead>\n",
       "    <tr style=\"text-align: right;\">\n",
       "      <th></th>\n",
       "      <th>ride_id</th>\n",
       "      <th>rideable_type</th>\n",
       "      <th>started_at</th>\n",
       "      <th>ended_at</th>\n",
       "      <th>start_lat</th>\n",
       "      <th>start_lng</th>\n",
       "      <th>end_lat</th>\n",
       "      <th>end_lng</th>\n",
       "      <th>member_casual</th>\n",
       "    </tr>\n",
       "  </thead>\n",
       "  <tbody>\n",
       "    <tr>\n",
       "      <th>0</th>\n",
       "      <td>E19E6F1B8D4C42ED</td>\n",
       "      <td>electric_bike</td>\n",
       "      <td>2021-01-23 16:14:19</td>\n",
       "      <td>2021-01-23 16:24:44</td>\n",
       "      <td>41.900341</td>\n",
       "      <td>-87.696743</td>\n",
       "      <td>41.89</td>\n",
       "      <td>-87.72</td>\n",
       "      <td>member</td>\n",
       "    </tr>\n",
       "    <tr>\n",
       "      <th>1</th>\n",
       "      <td>DC88F20C2C55F27F</td>\n",
       "      <td>electric_bike</td>\n",
       "      <td>2021-01-27 18:43:08</td>\n",
       "      <td>2021-01-27 18:47:12</td>\n",
       "      <td>41.900333</td>\n",
       "      <td>-87.696707</td>\n",
       "      <td>41.90</td>\n",
       "      <td>-87.69</td>\n",
       "      <td>member</td>\n",
       "    </tr>\n",
       "    <tr>\n",
       "      <th>2</th>\n",
       "      <td>EC45C94683FE3F27</td>\n",
       "      <td>electric_bike</td>\n",
       "      <td>2021-01-21 22:35:54</td>\n",
       "      <td>2021-01-21 22:37:14</td>\n",
       "      <td>41.900313</td>\n",
       "      <td>-87.696643</td>\n",
       "      <td>41.90</td>\n",
       "      <td>-87.70</td>\n",
       "      <td>member</td>\n",
       "    </tr>\n",
       "    <tr>\n",
       "      <th>3</th>\n",
       "      <td>4FA453A75AE377DB</td>\n",
       "      <td>electric_bike</td>\n",
       "      <td>2021-01-07 13:31:13</td>\n",
       "      <td>2021-01-07 13:42:55</td>\n",
       "      <td>41.900399</td>\n",
       "      <td>-87.696662</td>\n",
       "      <td>41.92</td>\n",
       "      <td>-87.69</td>\n",
       "      <td>member</td>\n",
       "    </tr>\n",
       "    <tr>\n",
       "      <th>4</th>\n",
       "      <td>BE5E8EB4E7263A0B</td>\n",
       "      <td>electric_bike</td>\n",
       "      <td>2021-01-23 02:24:02</td>\n",
       "      <td>2021-01-23 02:24:45</td>\n",
       "      <td>41.900326</td>\n",
       "      <td>-87.696697</td>\n",
       "      <td>41.90</td>\n",
       "      <td>-87.70</td>\n",
       "      <td>casual</td>\n",
       "    </tr>\n",
       "  </tbody>\n",
       "</table>\n",
       "</div>"
      ],
      "text/plain": [
       "            ride_id  rideable_type           started_at             ended_at  \\\n",
       "0  E19E6F1B8D4C42ED  electric_bike  2021-01-23 16:14:19  2021-01-23 16:24:44   \n",
       "1  DC88F20C2C55F27F  electric_bike  2021-01-27 18:43:08  2021-01-27 18:47:12   \n",
       "2  EC45C94683FE3F27  electric_bike  2021-01-21 22:35:54  2021-01-21 22:37:14   \n",
       "3  4FA453A75AE377DB  electric_bike  2021-01-07 13:31:13  2021-01-07 13:42:55   \n",
       "4  BE5E8EB4E7263A0B  electric_bike  2021-01-23 02:24:02  2021-01-23 02:24:45   \n",
       "\n",
       "   start_lat  start_lng  end_lat  end_lng member_casual  \n",
       "0  41.900341 -87.696743    41.89   -87.72        member  \n",
       "1  41.900333 -87.696707    41.90   -87.69        member  \n",
       "2  41.900313 -87.696643    41.90   -87.70        member  \n",
       "3  41.900399 -87.696662    41.92   -87.69        member  \n",
       "4  41.900326 -87.696697    41.90   -87.70        casual  "
      ]
     },
     "execution_count": 4,
     "metadata": {},
     "output_type": "execute_result"
    }
   ],
   "source": [
    "#Drop columns you don't need to\n",
    "to_drop = ['start_station_name', 'start_station_id', 'end_station_name', 'end_station_id']\n",
    "dvt.drop(to_drop, axis=1, inplace=True)\n",
    "dvt.head()"
   ]
  },
  {
   "cell_type": "markdown",
   "id": "1a66b3ae",
   "metadata": {
    "papermill": {
     "duration": 0.038553,
     "end_time": "2022-05-17T20:03:44.800889",
     "exception": false,
     "start_time": "2022-05-17T20:03:44.762336",
     "status": "completed"
    },
    "tags": []
   },
   "source": [
    "**Clean data**"
   ]
  },
  {
   "cell_type": "code",
   "execution_count": 5,
   "id": "dc9cb034",
   "metadata": {
    "execution": {
     "iopub.execute_input": "2022-05-17T20:03:44.883765Z",
     "iopub.status.busy": "2022-05-17T20:03:44.883186Z",
     "iopub.status.idle": "2022-05-17T20:04:19.452855Z",
     "shell.execute_reply": "2022-05-17T20:04:19.451966Z"
    },
    "papermill": {
     "duration": 34.653068,
     "end_time": "2022-05-17T20:04:19.494322",
     "exception": false,
     "start_time": "2022-05-17T20:03:44.841254",
     "status": "completed"
    },
    "tags": []
   },
   "outputs": [
    {
     "data": {
      "text/html": [
       "<div>\n",
       "<style scoped>\n",
       "    .dataframe tbody tr th:only-of-type {\n",
       "        vertical-align: middle;\n",
       "    }\n",
       "\n",
       "    .dataframe tbody tr th {\n",
       "        vertical-align: top;\n",
       "    }\n",
       "\n",
       "    .dataframe thead th {\n",
       "        text-align: right;\n",
       "    }\n",
       "</style>\n",
       "<table border=\"1\" class=\"dataframe\">\n",
       "  <thead>\n",
       "    <tr style=\"text-align: right;\">\n",
       "      <th></th>\n",
       "      <th>ride_id</th>\n",
       "      <th>rideable_type</th>\n",
       "      <th>started_at</th>\n",
       "      <th>ended_at</th>\n",
       "      <th>start_lat</th>\n",
       "      <th>start_lng</th>\n",
       "      <th>end_lat</th>\n",
       "      <th>end_lng</th>\n",
       "      <th>member_casual</th>\n",
       "    </tr>\n",
       "  </thead>\n",
       "  <tbody>\n",
       "    <tr>\n",
       "      <th>0</th>\n",
       "      <td>E19E6F1B8D4C42ED</td>\n",
       "      <td>electric_bike</td>\n",
       "      <td>2021-01-23 16:14:19</td>\n",
       "      <td>2021-01-23 16:24:44</td>\n",
       "      <td>41.900341</td>\n",
       "      <td>-87.696743</td>\n",
       "      <td>41.890000</td>\n",
       "      <td>-87.720000</td>\n",
       "      <td>member</td>\n",
       "    </tr>\n",
       "    <tr>\n",
       "      <th>1</th>\n",
       "      <td>DC88F20C2C55F27F</td>\n",
       "      <td>electric_bike</td>\n",
       "      <td>2021-01-27 18:43:08</td>\n",
       "      <td>2021-01-27 18:47:12</td>\n",
       "      <td>41.900333</td>\n",
       "      <td>-87.696707</td>\n",
       "      <td>41.900000</td>\n",
       "      <td>-87.690000</td>\n",
       "      <td>member</td>\n",
       "    </tr>\n",
       "    <tr>\n",
       "      <th>2</th>\n",
       "      <td>EC45C94683FE3F27</td>\n",
       "      <td>electric_bike</td>\n",
       "      <td>2021-01-21 22:35:54</td>\n",
       "      <td>2021-01-21 22:37:14</td>\n",
       "      <td>41.900313</td>\n",
       "      <td>-87.696643</td>\n",
       "      <td>41.900000</td>\n",
       "      <td>-87.700000</td>\n",
       "      <td>member</td>\n",
       "    </tr>\n",
       "    <tr>\n",
       "      <th>3</th>\n",
       "      <td>4FA453A75AE377DB</td>\n",
       "      <td>electric_bike</td>\n",
       "      <td>2021-01-07 13:31:13</td>\n",
       "      <td>2021-01-07 13:42:55</td>\n",
       "      <td>41.900399</td>\n",
       "      <td>-87.696662</td>\n",
       "      <td>41.920000</td>\n",
       "      <td>-87.690000</td>\n",
       "      <td>member</td>\n",
       "    </tr>\n",
       "    <tr>\n",
       "      <th>4</th>\n",
       "      <td>BE5E8EB4E7263A0B</td>\n",
       "      <td>electric_bike</td>\n",
       "      <td>2021-01-23 02:24:02</td>\n",
       "      <td>2021-01-23 02:24:45</td>\n",
       "      <td>41.900326</td>\n",
       "      <td>-87.696697</td>\n",
       "      <td>41.900000</td>\n",
       "      <td>-87.700000</td>\n",
       "      <td>casual</td>\n",
       "    </tr>\n",
       "    <tr>\n",
       "      <th>...</th>\n",
       "      <td>...</td>\n",
       "      <td>...</td>\n",
       "      <td>...</td>\n",
       "      <td>...</td>\n",
       "      <td>...</td>\n",
       "      <td>...</td>\n",
       "      <td>...</td>\n",
       "      <td>...</td>\n",
       "      <td>...</td>\n",
       "    </tr>\n",
       "    <tr>\n",
       "      <th>247535</th>\n",
       "      <td>847431F3D5353AB7</td>\n",
       "      <td>electric_bike</td>\n",
       "      <td>2021-12-12 13:36:55</td>\n",
       "      <td>2021-12-12 13:56:08</td>\n",
       "      <td>41.882289</td>\n",
       "      <td>-87.639752</td>\n",
       "      <td>41.890000</td>\n",
       "      <td>-87.610000</td>\n",
       "      <td>casual</td>\n",
       "    </tr>\n",
       "    <tr>\n",
       "      <th>247536</th>\n",
       "      <td>CF407BBC3B9FAD63</td>\n",
       "      <td>electric_bike</td>\n",
       "      <td>2021-12-06 19:37:50</td>\n",
       "      <td>2021-12-06 19:44:51</td>\n",
       "      <td>41.882123</td>\n",
       "      <td>-87.640053</td>\n",
       "      <td>41.889106</td>\n",
       "      <td>-87.638862</td>\n",
       "      <td>member</td>\n",
       "    </tr>\n",
       "    <tr>\n",
       "      <th>247537</th>\n",
       "      <td>60BB69EBF5440E92</td>\n",
       "      <td>electric_bike</td>\n",
       "      <td>2021-12-02 08:57:04</td>\n",
       "      <td>2021-12-02 09:05:21</td>\n",
       "      <td>41.881956</td>\n",
       "      <td>-87.639955</td>\n",
       "      <td>41.880254</td>\n",
       "      <td>-87.629603</td>\n",
       "      <td>member</td>\n",
       "    </tr>\n",
       "    <tr>\n",
       "      <th>247538</th>\n",
       "      <td>C414F654A28635B8</td>\n",
       "      <td>electric_bike</td>\n",
       "      <td>2021-12-13 09:00:26</td>\n",
       "      <td>2021-12-13 09:14:39</td>\n",
       "      <td>41.860000</td>\n",
       "      <td>-87.720000</td>\n",
       "      <td>41.850000</td>\n",
       "      <td>-87.710000</td>\n",
       "      <td>member</td>\n",
       "    </tr>\n",
       "    <tr>\n",
       "      <th>247539</th>\n",
       "      <td>37AC57E34B2E7E97</td>\n",
       "      <td>classic_bike</td>\n",
       "      <td>2021-12-13 08:45:32</td>\n",
       "      <td>2021-12-13 08:49:09</td>\n",
       "      <td>41.877850</td>\n",
       "      <td>-87.624080</td>\n",
       "      <td>41.881320</td>\n",
       "      <td>-87.629521</td>\n",
       "      <td>member</td>\n",
       "    </tr>\n",
       "  </tbody>\n",
       "</table>\n",
       "<p>5595063 rows × 9 columns</p>\n",
       "</div>"
      ],
      "text/plain": [
       "                 ride_id  rideable_type           started_at  \\\n",
       "0       E19E6F1B8D4C42ED  electric_bike  2021-01-23 16:14:19   \n",
       "1       DC88F20C2C55F27F  electric_bike  2021-01-27 18:43:08   \n",
       "2       EC45C94683FE3F27  electric_bike  2021-01-21 22:35:54   \n",
       "3       4FA453A75AE377DB  electric_bike  2021-01-07 13:31:13   \n",
       "4       BE5E8EB4E7263A0B  electric_bike  2021-01-23 02:24:02   \n",
       "...                  ...            ...                  ...   \n",
       "247535  847431F3D5353AB7  electric_bike  2021-12-12 13:36:55   \n",
       "247536  CF407BBC3B9FAD63  electric_bike  2021-12-06 19:37:50   \n",
       "247537  60BB69EBF5440E92  electric_bike  2021-12-02 08:57:04   \n",
       "247538  C414F654A28635B8  electric_bike  2021-12-13 09:00:26   \n",
       "247539  37AC57E34B2E7E97   classic_bike  2021-12-13 08:45:32   \n",
       "\n",
       "                   ended_at  start_lat  start_lng    end_lat    end_lng  \\\n",
       "0       2021-01-23 16:24:44  41.900341 -87.696743  41.890000 -87.720000   \n",
       "1       2021-01-27 18:47:12  41.900333 -87.696707  41.900000 -87.690000   \n",
       "2       2021-01-21 22:37:14  41.900313 -87.696643  41.900000 -87.700000   \n",
       "3       2021-01-07 13:42:55  41.900399 -87.696662  41.920000 -87.690000   \n",
       "4       2021-01-23 02:24:45  41.900326 -87.696697  41.900000 -87.700000   \n",
       "...                     ...        ...        ...        ...        ...   \n",
       "247535  2021-12-12 13:56:08  41.882289 -87.639752  41.890000 -87.610000   \n",
       "247536  2021-12-06 19:44:51  41.882123 -87.640053  41.889106 -87.638862   \n",
       "247537  2021-12-02 09:05:21  41.881956 -87.639955  41.880254 -87.629603   \n",
       "247538  2021-12-13 09:14:39  41.860000 -87.720000  41.850000 -87.710000   \n",
       "247539  2021-12-13 08:49:09  41.877850 -87.624080  41.881320 -87.629521   \n",
       "\n",
       "       member_casual  \n",
       "0             member  \n",
       "1             member  \n",
       "2             member  \n",
       "3             member  \n",
       "4             casual  \n",
       "...              ...  \n",
       "247535        casual  \n",
       "247536        member  \n",
       "247537        member  \n",
       "247538        member  \n",
       "247539        member  \n",
       "\n",
       "[5595063 rows x 9 columns]"
      ]
     },
     "execution_count": 5,
     "metadata": {},
     "output_type": "execute_result"
    }
   ],
   "source": [
    "#Check and drop duplicates\n",
    "dvt.duplicated()\n",
    "dvt.drop_duplicates()"
   ]
  },
  {
   "cell_type": "code",
   "execution_count": 6,
   "id": "cee7a7e4",
   "metadata": {
    "execution": {
     "iopub.execute_input": "2022-05-17T20:04:19.575388Z",
     "iopub.status.busy": "2022-05-17T20:04:19.575101Z",
     "iopub.status.idle": "2022-05-17T20:04:26.162204Z",
     "shell.execute_reply": "2022-05-17T20:04:26.161514Z"
    },
    "papermill": {
     "duration": 6.630219,
     "end_time": "2022-05-17T20:04:26.164187",
     "exception": false,
     "start_time": "2022-05-17T20:04:19.533968",
     "status": "completed"
    },
    "tags": []
   },
   "outputs": [
    {
     "data": {
      "text/html": [
       "<div>\n",
       "<style scoped>\n",
       "    .dataframe tbody tr th:only-of-type {\n",
       "        vertical-align: middle;\n",
       "    }\n",
       "\n",
       "    .dataframe tbody tr th {\n",
       "        vertical-align: top;\n",
       "    }\n",
       "\n",
       "    .dataframe thead th {\n",
       "        text-align: right;\n",
       "    }\n",
       "</style>\n",
       "<table border=\"1\" class=\"dataframe\">\n",
       "  <thead>\n",
       "    <tr style=\"text-align: right;\">\n",
       "      <th></th>\n",
       "      <th>ride_id</th>\n",
       "      <th>rideable_type</th>\n",
       "      <th>started_at</th>\n",
       "      <th>ended_at</th>\n",
       "      <th>start_lat</th>\n",
       "      <th>start_lng</th>\n",
       "      <th>end_lat</th>\n",
       "      <th>end_lng</th>\n",
       "      <th>member_casual</th>\n",
       "    </tr>\n",
       "  </thead>\n",
       "  <tbody>\n",
       "    <tr>\n",
       "      <th>0</th>\n",
       "      <td>E19E6F1B8D4C42ED</td>\n",
       "      <td>electric_bike</td>\n",
       "      <td>2021-01-23 16:14:19</td>\n",
       "      <td>2021-01-23 16:24:44</td>\n",
       "      <td>41.900341</td>\n",
       "      <td>-87.696743</td>\n",
       "      <td>41.890000</td>\n",
       "      <td>-87.720000</td>\n",
       "      <td>member</td>\n",
       "    </tr>\n",
       "    <tr>\n",
       "      <th>1</th>\n",
       "      <td>DC88F20C2C55F27F</td>\n",
       "      <td>electric_bike</td>\n",
       "      <td>2021-01-27 18:43:08</td>\n",
       "      <td>2021-01-27 18:47:12</td>\n",
       "      <td>41.900333</td>\n",
       "      <td>-87.696707</td>\n",
       "      <td>41.900000</td>\n",
       "      <td>-87.690000</td>\n",
       "      <td>member</td>\n",
       "    </tr>\n",
       "    <tr>\n",
       "      <th>2</th>\n",
       "      <td>EC45C94683FE3F27</td>\n",
       "      <td>electric_bike</td>\n",
       "      <td>2021-01-21 22:35:54</td>\n",
       "      <td>2021-01-21 22:37:14</td>\n",
       "      <td>41.900313</td>\n",
       "      <td>-87.696643</td>\n",
       "      <td>41.900000</td>\n",
       "      <td>-87.700000</td>\n",
       "      <td>member</td>\n",
       "    </tr>\n",
       "    <tr>\n",
       "      <th>3</th>\n",
       "      <td>4FA453A75AE377DB</td>\n",
       "      <td>electric_bike</td>\n",
       "      <td>2021-01-07 13:31:13</td>\n",
       "      <td>2021-01-07 13:42:55</td>\n",
       "      <td>41.900399</td>\n",
       "      <td>-87.696662</td>\n",
       "      <td>41.920000</td>\n",
       "      <td>-87.690000</td>\n",
       "      <td>member</td>\n",
       "    </tr>\n",
       "    <tr>\n",
       "      <th>4</th>\n",
       "      <td>BE5E8EB4E7263A0B</td>\n",
       "      <td>electric_bike</td>\n",
       "      <td>2021-01-23 02:24:02</td>\n",
       "      <td>2021-01-23 02:24:45</td>\n",
       "      <td>41.900326</td>\n",
       "      <td>-87.696697</td>\n",
       "      <td>41.900000</td>\n",
       "      <td>-87.700000</td>\n",
       "      <td>casual</td>\n",
       "    </tr>\n",
       "    <tr>\n",
       "      <th>...</th>\n",
       "      <td>...</td>\n",
       "      <td>...</td>\n",
       "      <td>...</td>\n",
       "      <td>...</td>\n",
       "      <td>...</td>\n",
       "      <td>...</td>\n",
       "      <td>...</td>\n",
       "      <td>...</td>\n",
       "      <td>...</td>\n",
       "    </tr>\n",
       "    <tr>\n",
       "      <th>247535</th>\n",
       "      <td>847431F3D5353AB7</td>\n",
       "      <td>electric_bike</td>\n",
       "      <td>2021-12-12 13:36:55</td>\n",
       "      <td>2021-12-12 13:56:08</td>\n",
       "      <td>41.882289</td>\n",
       "      <td>-87.639752</td>\n",
       "      <td>41.890000</td>\n",
       "      <td>-87.610000</td>\n",
       "      <td>casual</td>\n",
       "    </tr>\n",
       "    <tr>\n",
       "      <th>247536</th>\n",
       "      <td>CF407BBC3B9FAD63</td>\n",
       "      <td>electric_bike</td>\n",
       "      <td>2021-12-06 19:37:50</td>\n",
       "      <td>2021-12-06 19:44:51</td>\n",
       "      <td>41.882123</td>\n",
       "      <td>-87.640053</td>\n",
       "      <td>41.889106</td>\n",
       "      <td>-87.638862</td>\n",
       "      <td>member</td>\n",
       "    </tr>\n",
       "    <tr>\n",
       "      <th>247537</th>\n",
       "      <td>60BB69EBF5440E92</td>\n",
       "      <td>electric_bike</td>\n",
       "      <td>2021-12-02 08:57:04</td>\n",
       "      <td>2021-12-02 09:05:21</td>\n",
       "      <td>41.881956</td>\n",
       "      <td>-87.639955</td>\n",
       "      <td>41.880254</td>\n",
       "      <td>-87.629603</td>\n",
       "      <td>member</td>\n",
       "    </tr>\n",
       "    <tr>\n",
       "      <th>247538</th>\n",
       "      <td>C414F654A28635B8</td>\n",
       "      <td>electric_bike</td>\n",
       "      <td>2021-12-13 09:00:26</td>\n",
       "      <td>2021-12-13 09:14:39</td>\n",
       "      <td>41.860000</td>\n",
       "      <td>-87.720000</td>\n",
       "      <td>41.850000</td>\n",
       "      <td>-87.710000</td>\n",
       "      <td>member</td>\n",
       "    </tr>\n",
       "    <tr>\n",
       "      <th>247539</th>\n",
       "      <td>37AC57E34B2E7E97</td>\n",
       "      <td>classic_bike</td>\n",
       "      <td>2021-12-13 08:45:32</td>\n",
       "      <td>2021-12-13 08:49:09</td>\n",
       "      <td>41.877850</td>\n",
       "      <td>-87.624080</td>\n",
       "      <td>41.881320</td>\n",
       "      <td>-87.629521</td>\n",
       "      <td>member</td>\n",
       "    </tr>\n",
       "  </tbody>\n",
       "</table>\n",
       "<p>5590292 rows × 9 columns</p>\n",
       "</div>"
      ],
      "text/plain": [
       "                 ride_id  rideable_type           started_at  \\\n",
       "0       E19E6F1B8D4C42ED  electric_bike  2021-01-23 16:14:19   \n",
       "1       DC88F20C2C55F27F  electric_bike  2021-01-27 18:43:08   \n",
       "2       EC45C94683FE3F27  electric_bike  2021-01-21 22:35:54   \n",
       "3       4FA453A75AE377DB  electric_bike  2021-01-07 13:31:13   \n",
       "4       BE5E8EB4E7263A0B  electric_bike  2021-01-23 02:24:02   \n",
       "...                  ...            ...                  ...   \n",
       "247535  847431F3D5353AB7  electric_bike  2021-12-12 13:36:55   \n",
       "247536  CF407BBC3B9FAD63  electric_bike  2021-12-06 19:37:50   \n",
       "247537  60BB69EBF5440E92  electric_bike  2021-12-02 08:57:04   \n",
       "247538  C414F654A28635B8  electric_bike  2021-12-13 09:00:26   \n",
       "247539  37AC57E34B2E7E97   classic_bike  2021-12-13 08:45:32   \n",
       "\n",
       "                   ended_at  start_lat  start_lng    end_lat    end_lng  \\\n",
       "0       2021-01-23 16:24:44  41.900341 -87.696743  41.890000 -87.720000   \n",
       "1       2021-01-27 18:47:12  41.900333 -87.696707  41.900000 -87.690000   \n",
       "2       2021-01-21 22:37:14  41.900313 -87.696643  41.900000 -87.700000   \n",
       "3       2021-01-07 13:42:55  41.900399 -87.696662  41.920000 -87.690000   \n",
       "4       2021-01-23 02:24:45  41.900326 -87.696697  41.900000 -87.700000   \n",
       "...                     ...        ...        ...        ...        ...   \n",
       "247535  2021-12-12 13:56:08  41.882289 -87.639752  41.890000 -87.610000   \n",
       "247536  2021-12-06 19:44:51  41.882123 -87.640053  41.889106 -87.638862   \n",
       "247537  2021-12-02 09:05:21  41.881956 -87.639955  41.880254 -87.629603   \n",
       "247538  2021-12-13 09:14:39  41.860000 -87.720000  41.850000 -87.710000   \n",
       "247539  2021-12-13 08:49:09  41.877850 -87.624080  41.881320 -87.629521   \n",
       "\n",
       "       member_casual  \n",
       "0             member  \n",
       "1             member  \n",
       "2             member  \n",
       "3             member  \n",
       "4             casual  \n",
       "...              ...  \n",
       "247535        casual  \n",
       "247536        member  \n",
       "247537        member  \n",
       "247538        member  \n",
       "247539        member  \n",
       "\n",
       "[5590292 rows x 9 columns]"
      ]
     },
     "execution_count": 6,
     "metadata": {},
     "output_type": "execute_result"
    }
   ],
   "source": [
    "#Drop null\n",
    "dvt.isnull()\n",
    "dvt.dropna()"
   ]
  },
  {
   "cell_type": "code",
   "execution_count": 7,
   "id": "058b8ff0",
   "metadata": {
    "execution": {
     "iopub.execute_input": "2022-05-17T20:04:26.246264Z",
     "iopub.status.busy": "2022-05-17T20:04:26.245806Z",
     "iopub.status.idle": "2022-05-17T20:04:26.251549Z",
     "shell.execute_reply": "2022-05-17T20:04:26.250999Z"
    },
    "papermill": {
     "duration": 0.049289,
     "end_time": "2022-05-17T20:04:26.253566",
     "exception": false,
     "start_time": "2022-05-17T20:04:26.204277",
     "status": "completed"
    },
    "tags": []
   },
   "outputs": [
    {
     "data": {
      "text/plain": [
       "ride_id           object\n",
       "rideable_type     object\n",
       "started_at        object\n",
       "ended_at          object\n",
       "start_lat        float64\n",
       "start_lng        float64\n",
       "end_lat          float64\n",
       "end_lng          float64\n",
       "member_casual     object\n",
       "dtype: object"
      ]
     },
     "execution_count": 7,
     "metadata": {},
     "output_type": "execute_result"
    }
   ],
   "source": [
    "#Look up data types for each column\n",
    "dvt.dtypes"
   ]
  },
  {
   "cell_type": "code",
   "execution_count": 8,
   "id": "f058afd7",
   "metadata": {
    "execution": {
     "iopub.execute_input": "2022-05-17T20:04:26.337293Z",
     "iopub.status.busy": "2022-05-17T20:04:26.336795Z",
     "iopub.status.idle": "2022-05-17T20:04:27.225396Z",
     "shell.execute_reply": "2022-05-17T20:04:27.224503Z"
    },
    "papermill": {
     "duration": 0.933824,
     "end_time": "2022-05-17T20:04:27.227773",
     "exception": false,
     "start_time": "2022-05-17T20:04:26.293949",
     "status": "completed"
    },
    "tags": []
   },
   "outputs": [
    {
     "data": {
      "text/plain": [
       "classic_bike     3251028\n",
       "electric_bike    2031692\n",
       "docked_bike       312343\n",
       "Name: rideable_type, dtype: int64"
      ]
     },
     "execution_count": 8,
     "metadata": {},
     "output_type": "execute_result"
    }
   ],
   "source": [
    "#Bike types\n",
    "dvt['rideable_type'].value_counts()"
   ]
  },
  {
   "cell_type": "code",
   "execution_count": 9,
   "id": "19b4e49c",
   "metadata": {
    "execution": {
     "iopub.execute_input": "2022-05-17T20:04:27.311433Z",
     "iopub.status.busy": "2022-05-17T20:04:27.311144Z",
     "iopub.status.idle": "2022-05-17T20:04:28.204068Z",
     "shell.execute_reply": "2022-05-17T20:04:28.203118Z"
    },
    "papermill": {
     "duration": 0.937355,
     "end_time": "2022-05-17T20:04:28.206168",
     "exception": false,
     "start_time": "2022-05-17T20:04:27.268813",
     "status": "completed"
    },
    "tags": []
   },
   "outputs": [
    {
     "data": {
      "text/plain": [
       "member    3066058\n",
       "casual    2529005\n",
       "Name: member_casual, dtype: int64"
      ]
     },
     "execution_count": 9,
     "metadata": {},
     "output_type": "execute_result"
    }
   ],
   "source": [
    "#Member types\n",
    "dvt['member_casual'].value_counts()"
   ]
  },
  {
   "cell_type": "code",
   "execution_count": 10,
   "id": "1816106e",
   "metadata": {
    "execution": {
     "iopub.execute_input": "2022-05-17T20:04:28.293251Z",
     "iopub.status.busy": "2022-05-17T20:04:28.292914Z",
     "iopub.status.idle": "2022-05-17T20:04:32.875202Z",
     "shell.execute_reply": "2022-05-17T20:04:32.874267Z"
    },
    "papermill": {
     "duration": 4.627472,
     "end_time": "2022-05-17T20:04:32.877580",
     "exception": false,
     "start_time": "2022-05-17T20:04:28.250108",
     "status": "completed"
    },
    "tags": []
   },
   "outputs": [],
   "source": [
    "#Change data types in datetime\n",
    "dvt['started_at'] = pd.to_datetime(dvt['started_at'] )\n",
    "dvt['ended_at'] = pd.to_datetime(dvt['ended_at'] )"
   ]
  },
  {
   "cell_type": "code",
   "execution_count": 11,
   "id": "fe7feb7b",
   "metadata": {
    "execution": {
     "iopub.execute_input": "2022-05-17T20:04:32.966057Z",
     "iopub.status.busy": "2022-05-17T20:04:32.965172Z",
     "iopub.status.idle": "2022-05-17T20:04:33.118840Z",
     "shell.execute_reply": "2022-05-17T20:04:33.117889Z"
    },
    "papermill": {
     "duration": 0.202099,
     "end_time": "2022-05-17T20:04:33.121726",
     "exception": false,
     "start_time": "2022-05-17T20:04:32.919627",
     "status": "completed"
    },
    "tags": []
   },
   "outputs": [],
   "source": [
    "#Calculate time duriation and change them in seconds\n",
    "dvt['time_diff(s)'] = dvt['ended_at'] - dvt['started_at']\n",
    "dvt['time_diff(s)'] = dvt['time_diff(s)'] / np.timedelta64(1, \"s\")"
   ]
  },
  {
   "cell_type": "code",
   "execution_count": 12,
   "id": "e84c95d0",
   "metadata": {
    "execution": {
     "iopub.execute_input": "2022-05-17T20:04:33.206495Z",
     "iopub.status.busy": "2022-05-17T20:04:33.205682Z",
     "iopub.status.idle": "2022-05-17T20:04:33.906584Z",
     "shell.execute_reply": "2022-05-17T20:04:33.905884Z"
    },
    "papermill": {
     "duration": 0.745497,
     "end_time": "2022-05-17T20:04:33.908801",
     "exception": false,
     "start_time": "2022-05-17T20:04:33.163304",
     "status": "completed"
    },
    "tags": []
   },
   "outputs": [],
   "source": [
    "#Calculate ride distances\n",
    "def haversine_np(lon1, lat1, lon2, lat2):\n",
    "    \"\"\"\n",
    "    Calculate the great circle distance between two points\n",
    "    on the earth (specified in decimal degrees)\n",
    "\n",
    "    All args must be of equal length.    \n",
    "\n",
    "    \"\"\"\n",
    "    lon1, lat1, lon2, lat2 = map(np.radians, [lon1, lat1, lon2, lat2])\n",
    "\n",
    "    dlon = lon2 - lon1\n",
    "    dlat = lat2 - lat1\n",
    "\n",
    "    a = np.sin(dlat/2.0)**2 + np.cos(lat1) * np.cos(lat2) * np.sin(dlon/2.0)**2\n",
    "\n",
    "    c = 2 * np.arcsin(np.sqrt(a))\n",
    "    km = 6367 * c\n",
    "    return km\n",
    "\n",
    "dvt[\"ride_distance(km)\"] = haversine_np(dvt.start_lng, dvt.start_lat, dvt.end_lng, dvt.end_lat)"
   ]
  },
  {
   "cell_type": "code",
   "execution_count": 13,
   "id": "23190098",
   "metadata": {
    "execution": {
     "iopub.execute_input": "2022-05-17T20:04:33.994928Z",
     "iopub.status.busy": "2022-05-17T20:04:33.994474Z",
     "iopub.status.idle": "2022-05-17T20:04:34.584902Z",
     "shell.execute_reply": "2022-05-17T20:04:34.584106Z"
    },
    "papermill": {
     "duration": 0.635841,
     "end_time": "2022-05-17T20:04:34.587236",
     "exception": false,
     "start_time": "2022-05-17T20:04:33.951395",
     "status": "completed"
    },
    "tags": []
   },
   "outputs": [],
   "source": [
    "#Add one column of day of the week\n",
    "dvt['weekday'] = dvt['started_at'].dt.dayofweek"
   ]
  },
  {
   "cell_type": "code",
   "execution_count": 14,
   "id": "059ecbed",
   "metadata": {
    "execution": {
     "iopub.execute_input": "2022-05-17T20:04:34.671355Z",
     "iopub.status.busy": "2022-05-17T20:04:34.671066Z",
     "iopub.status.idle": "2022-05-17T20:04:37.288356Z",
     "shell.execute_reply": "2022-05-17T20:04:37.287517Z"
    },
    "papermill": {
     "duration": 2.662164,
     "end_time": "2022-05-17T20:04:37.290711",
     "exception": false,
     "start_time": "2022-05-17T20:04:34.628547",
     "status": "completed"
    },
    "tags": []
   },
   "outputs": [
    {
     "data": {
      "text/html": [
       "<div>\n",
       "<style scoped>\n",
       "    .dataframe tbody tr th:only-of-type {\n",
       "        vertical-align: middle;\n",
       "    }\n",
       "\n",
       "    .dataframe tbody tr th {\n",
       "        vertical-align: top;\n",
       "    }\n",
       "\n",
       "    .dataframe thead th {\n",
       "        text-align: right;\n",
       "    }\n",
       "</style>\n",
       "<table border=\"1\" class=\"dataframe\">\n",
       "  <thead>\n",
       "    <tr style=\"text-align: right;\">\n",
       "      <th></th>\n",
       "      <th>start_lat</th>\n",
       "      <th>start_lng</th>\n",
       "      <th>end_lat</th>\n",
       "      <th>end_lng</th>\n",
       "      <th>time_diff(s)</th>\n",
       "      <th>ride_distance(km)</th>\n",
       "      <th>weekday</th>\n",
       "    </tr>\n",
       "  </thead>\n",
       "  <tbody>\n",
       "    <tr>\n",
       "      <th>count</th>\n",
       "      <td>5.595063e+06</td>\n",
       "      <td>5.595063e+06</td>\n",
       "      <td>5.590292e+06</td>\n",
       "      <td>5.590292e+06</td>\n",
       "      <td>5.595063e+06</td>\n",
       "      <td>5.590292e+06</td>\n",
       "      <td>5.595063e+06</td>\n",
       "    </tr>\n",
       "    <tr>\n",
       "      <th>mean</th>\n",
       "      <td>4.190107e+01</td>\n",
       "      <td>-8.764605e+01</td>\n",
       "      <td>4.190134e+01</td>\n",
       "      <td>-8.764626e+01</td>\n",
       "      <td>1.316121e+03</td>\n",
       "      <td>2.185020e+00</td>\n",
       "      <td>3.182436e+00</td>\n",
       "    </tr>\n",
       "    <tr>\n",
       "      <th>std</th>\n",
       "      <td>4.608635e-02</td>\n",
       "      <td>2.872111e-02</td>\n",
       "      <td>4.618916e-02</td>\n",
       "      <td>2.889959e-02</td>\n",
       "      <td>1.070009e+04</td>\n",
       "      <td>1.972848e+00</td>\n",
       "      <td>1.998339e+00</td>\n",
       "    </tr>\n",
       "    <tr>\n",
       "      <th>min</th>\n",
       "      <td>4.164000e+01</td>\n",
       "      <td>-8.784000e+01</td>\n",
       "      <td>4.139000e+01</td>\n",
       "      <td>-8.897000e+01</td>\n",
       "      <td>-3.482000e+03</td>\n",
       "      <td>0.000000e+00</td>\n",
       "      <td>0.000000e+00</td>\n",
       "    </tr>\n",
       "    <tr>\n",
       "      <th>25%</th>\n",
       "      <td>4.188155e+01</td>\n",
       "      <td>-8.766000e+01</td>\n",
       "      <td>4.188184e+01</td>\n",
       "      <td>-8.766000e+01</td>\n",
       "      <td>4.050000e+02</td>\n",
       "      <td>8.995721e-01</td>\n",
       "      <td>1.000000e+00</td>\n",
       "    </tr>\n",
       "    <tr>\n",
       "      <th>50%</th>\n",
       "      <td>4.189897e+01</td>\n",
       "      <td>-8.764182e+01</td>\n",
       "      <td>4.189964e+01</td>\n",
       "      <td>-8.764275e+01</td>\n",
       "      <td>7.200000e+02</td>\n",
       "      <td>1.636812e+00</td>\n",
       "      <td>3.000000e+00</td>\n",
       "    </tr>\n",
       "    <tr>\n",
       "      <th>75%</th>\n",
       "      <td>4.192914e+01</td>\n",
       "      <td>-8.762773e+01</td>\n",
       "      <td>4.192920e+01</td>\n",
       "      <td>-8.762775e+01</td>\n",
       "      <td>1.307000e+03</td>\n",
       "      <td>2.880126e+00</td>\n",
       "      <td>5.000000e+00</td>\n",
       "    </tr>\n",
       "    <tr>\n",
       "      <th>max</th>\n",
       "      <td>4.207000e+01</td>\n",
       "      <td>-8.752000e+01</td>\n",
       "      <td>4.216812e+01</td>\n",
       "      <td>-8.749000e+01</td>\n",
       "      <td>3.356649e+06</td>\n",
       "      <td>1.143118e+02</td>\n",
       "      <td>6.000000e+00</td>\n",
       "    </tr>\n",
       "  </tbody>\n",
       "</table>\n",
       "</div>"
      ],
      "text/plain": [
       "          start_lat     start_lng       end_lat       end_lng  time_diff(s)  \\\n",
       "count  5.595063e+06  5.595063e+06  5.590292e+06  5.590292e+06  5.595063e+06   \n",
       "mean   4.190107e+01 -8.764605e+01  4.190134e+01 -8.764626e+01  1.316121e+03   \n",
       "std    4.608635e-02  2.872111e-02  4.618916e-02  2.889959e-02  1.070009e+04   \n",
       "min    4.164000e+01 -8.784000e+01  4.139000e+01 -8.897000e+01 -3.482000e+03   \n",
       "25%    4.188155e+01 -8.766000e+01  4.188184e+01 -8.766000e+01  4.050000e+02   \n",
       "50%    4.189897e+01 -8.764182e+01  4.189964e+01 -8.764275e+01  7.200000e+02   \n",
       "75%    4.192914e+01 -8.762773e+01  4.192920e+01 -8.762775e+01  1.307000e+03   \n",
       "max    4.207000e+01 -8.752000e+01  4.216812e+01 -8.749000e+01  3.356649e+06   \n",
       "\n",
       "       ride_distance(km)       weekday  \n",
       "count       5.590292e+06  5.595063e+06  \n",
       "mean        2.185020e+00  3.182436e+00  \n",
       "std         1.972848e+00  1.998339e+00  \n",
       "min         0.000000e+00  0.000000e+00  \n",
       "25%         8.995721e-01  1.000000e+00  \n",
       "50%         1.636812e+00  3.000000e+00  \n",
       "75%         2.880126e+00  5.000000e+00  \n",
       "max         1.143118e+02  6.000000e+00  "
      ]
     },
     "execution_count": 14,
     "metadata": {},
     "output_type": "execute_result"
    }
   ],
   "source": [
    "#Show statistical summary\n",
    "dvt.describe()"
   ]
  },
  {
   "cell_type": "code",
   "execution_count": 15,
   "id": "b0b290d0",
   "metadata": {
    "execution": {
     "iopub.execute_input": "2022-05-17T20:04:37.376918Z",
     "iopub.status.busy": "2022-05-17T20:04:37.376023Z",
     "iopub.status.idle": "2022-05-17T20:04:38.403153Z",
     "shell.execute_reply": "2022-05-17T20:04:38.401873Z"
    },
    "papermill": {
     "duration": 1.072817,
     "end_time": "2022-05-17T20:04:38.405611",
     "exception": false,
     "start_time": "2022-05-17T20:04:37.332794",
     "status": "completed"
    },
    "tags": []
   },
   "outputs": [],
   "source": [
    "#Drop rows with unreasonable distances\n",
    "dvt = dvt.loc[~((dvt['ride_distance(km)'] > 100))]\n",
    "dvt = dvt.loc[~((dvt['ride_distance(km)'] < 0.5))]"
   ]
  },
  {
   "cell_type": "code",
   "execution_count": 16,
   "id": "3eff5043",
   "metadata": {
    "execution": {
     "iopub.execute_input": "2022-05-17T20:04:38.492762Z",
     "iopub.status.busy": "2022-05-17T20:04:38.491936Z",
     "iopub.status.idle": "2022-05-17T20:04:39.428028Z",
     "shell.execute_reply": "2022-05-17T20:04:39.427124Z"
    },
    "papermill": {
     "duration": 0.982873,
     "end_time": "2022-05-17T20:04:39.430466",
     "exception": false,
     "start_time": "2022-05-17T20:04:38.447593",
     "status": "completed"
    },
    "tags": []
   },
   "outputs": [],
   "source": [
    "#Drop rows with unreasonable ride duriation\n",
    "dvt = dvt.loc[~((dvt['time_diff(s)'] > 18000))]\n",
    "dvt = dvt.loc[~((dvt['time_diff(s)'] < 30))]"
   ]
  },
  {
   "cell_type": "code",
   "execution_count": 17,
   "id": "ae1b656e",
   "metadata": {
    "execution": {
     "iopub.execute_input": "2022-05-17T20:04:39.515738Z",
     "iopub.status.busy": "2022-05-17T20:04:39.515419Z",
     "iopub.status.idle": "2022-05-17T20:04:41.429559Z",
     "shell.execute_reply": "2022-05-17T20:04:41.428640Z"
    },
    "papermill": {
     "duration": 1.959873,
     "end_time": "2022-05-17T20:04:41.431828",
     "exception": false,
     "start_time": "2022-05-17T20:04:39.471955",
     "status": "completed"
    },
    "tags": []
   },
   "outputs": [
    {
     "data": {
      "text/html": [
       "<div>\n",
       "<style scoped>\n",
       "    .dataframe tbody tr th:only-of-type {\n",
       "        vertical-align: middle;\n",
       "    }\n",
       "\n",
       "    .dataframe tbody tr th {\n",
       "        vertical-align: top;\n",
       "    }\n",
       "\n",
       "    .dataframe thead th {\n",
       "        text-align: right;\n",
       "    }\n",
       "</style>\n",
       "<table border=\"1\" class=\"dataframe\">\n",
       "  <thead>\n",
       "    <tr style=\"text-align: right;\">\n",
       "      <th></th>\n",
       "      <th>start_lat</th>\n",
       "      <th>start_lng</th>\n",
       "      <th>end_lat</th>\n",
       "      <th>end_lng</th>\n",
       "      <th>time_diff(s)</th>\n",
       "      <th>ride_distance(km)</th>\n",
       "      <th>weekday</th>\n",
       "    </tr>\n",
       "  </thead>\n",
       "  <tbody>\n",
       "    <tr>\n",
       "      <th>count</th>\n",
       "      <td>4.887580e+06</td>\n",
       "      <td>4.887580e+06</td>\n",
       "      <td>4.886099e+06</td>\n",
       "      <td>4.886099e+06</td>\n",
       "      <td>4.887580e+06</td>\n",
       "      <td>4.886099e+06</td>\n",
       "      <td>4.887580e+06</td>\n",
       "    </tr>\n",
       "    <tr>\n",
       "      <th>mean</th>\n",
       "      <td>4.190236e+01</td>\n",
       "      <td>-8.764658e+01</td>\n",
       "      <td>4.190266e+01</td>\n",
       "      <td>-8.764681e+01</td>\n",
       "      <td>1.056384e+03</td>\n",
       "      <td>2.475340e+00</td>\n",
       "      <td>3.178254e+00</td>\n",
       "    </tr>\n",
       "    <tr>\n",
       "      <th>std</th>\n",
       "      <td>4.450927e-02</td>\n",
       "      <td>2.790620e-02</td>\n",
       "      <td>4.463997e-02</td>\n",
       "      <td>2.810874e-02</td>\n",
       "      <td>1.154855e+03</td>\n",
       "      <td>1.936776e+00</td>\n",
       "      <td>1.990865e+00</td>\n",
       "    </tr>\n",
       "    <tr>\n",
       "      <th>min</th>\n",
       "      <td>4.164000e+01</td>\n",
       "      <td>-8.784000e+01</td>\n",
       "      <td>4.148000e+01</td>\n",
       "      <td>-8.807000e+01</td>\n",
       "      <td>3.000000e+01</td>\n",
       "      <td>5.000007e-01</td>\n",
       "      <td>0.000000e+00</td>\n",
       "    </tr>\n",
       "    <tr>\n",
       "      <th>25%</th>\n",
       "      <td>4.188223e+01</td>\n",
       "      <td>-8.766027e+01</td>\n",
       "      <td>4.188224e+01</td>\n",
       "      <td>-8.766098e+01</td>\n",
       "      <td>4.390000e+02</td>\n",
       "      <td>1.166891e+00</td>\n",
       "      <td>1.000000e+00</td>\n",
       "    </tr>\n",
       "    <tr>\n",
       "      <th>50%</th>\n",
       "      <td>4.190000e+01</td>\n",
       "      <td>-8.764312e+01</td>\n",
       "      <td>4.190022e+01</td>\n",
       "      <td>-8.764335e+01</td>\n",
       "      <td>7.310000e+02</td>\n",
       "      <td>1.877945e+00</td>\n",
       "      <td>3.000000e+00</td>\n",
       "    </tr>\n",
       "    <tr>\n",
       "      <th>75%</th>\n",
       "      <td>4.192949e+01</td>\n",
       "      <td>-8.762932e+01</td>\n",
       "      <td>4.192955e+01</td>\n",
       "      <td>-8.762932e+01</td>\n",
       "      <td>1.253000e+03</td>\n",
       "      <td>3.151088e+00</td>\n",
       "      <td>5.000000e+00</td>\n",
       "    </tr>\n",
       "    <tr>\n",
       "      <th>max</th>\n",
       "      <td>4.207000e+01</td>\n",
       "      <td>-8.752000e+01</td>\n",
       "      <td>4.216812e+01</td>\n",
       "      <td>-8.749000e+01</td>\n",
       "      <td>1.800000e+04</td>\n",
       "      <td>3.219050e+01</td>\n",
       "      <td>6.000000e+00</td>\n",
       "    </tr>\n",
       "  </tbody>\n",
       "</table>\n",
       "</div>"
      ],
      "text/plain": [
       "          start_lat     start_lng       end_lat       end_lng  time_diff(s)  \\\n",
       "count  4.887580e+06  4.887580e+06  4.886099e+06  4.886099e+06  4.887580e+06   \n",
       "mean   4.190236e+01 -8.764658e+01  4.190266e+01 -8.764681e+01  1.056384e+03   \n",
       "std    4.450927e-02  2.790620e-02  4.463997e-02  2.810874e-02  1.154855e+03   \n",
       "min    4.164000e+01 -8.784000e+01  4.148000e+01 -8.807000e+01  3.000000e+01   \n",
       "25%    4.188223e+01 -8.766027e+01  4.188224e+01 -8.766098e+01  4.390000e+02   \n",
       "50%    4.190000e+01 -8.764312e+01  4.190022e+01 -8.764335e+01  7.310000e+02   \n",
       "75%    4.192949e+01 -8.762932e+01  4.192955e+01 -8.762932e+01  1.253000e+03   \n",
       "max    4.207000e+01 -8.752000e+01  4.216812e+01 -8.749000e+01  1.800000e+04   \n",
       "\n",
       "       ride_distance(km)       weekday  \n",
       "count       4.886099e+06  4.887580e+06  \n",
       "mean        2.475340e+00  3.178254e+00  \n",
       "std         1.936776e+00  1.990865e+00  \n",
       "min         5.000007e-01  0.000000e+00  \n",
       "25%         1.166891e+00  1.000000e+00  \n",
       "50%         1.877945e+00  3.000000e+00  \n",
       "75%         3.151088e+00  5.000000e+00  \n",
       "max         3.219050e+01  6.000000e+00  "
      ]
     },
     "execution_count": 17,
     "metadata": {},
     "output_type": "execute_result"
    }
   ],
   "source": [
    "dvt.describe()"
   ]
  },
  {
   "cell_type": "code",
   "execution_count": 18,
   "id": "9731813f",
   "metadata": {
    "execution": {
     "iopub.execute_input": "2022-05-17T20:04:41.519826Z",
     "iopub.status.busy": "2022-05-17T20:04:41.519497Z",
     "iopub.status.idle": "2022-05-17T20:04:42.206263Z",
     "shell.execute_reply": "2022-05-17T20:04:42.205274Z"
    },
    "papermill": {
     "duration": 0.73377,
     "end_time": "2022-05-17T20:04:42.208659",
     "exception": false,
     "start_time": "2022-05-17T20:04:41.474889",
     "status": "completed"
    },
    "tags": []
   },
   "outputs": [],
   "source": [
    "#Summary of ride distances of members in each day of week\n",
    "gm = dvt.groupby(['weekday', 'member_casual']).agg({'ride_distance(km)': ['mean', 'min', 'max']})"
   ]
  },
  {
   "cell_type": "code",
   "execution_count": 19,
   "id": "9c739bad",
   "metadata": {
    "execution": {
     "iopub.execute_input": "2022-05-17T20:04:42.294798Z",
     "iopub.status.busy": "2022-05-17T20:04:42.294522Z",
     "iopub.status.idle": "2022-05-17T20:04:42.309368Z",
     "shell.execute_reply": "2022-05-17T20:04:42.308415Z"
    },
    "papermill": {
     "duration": 0.060985,
     "end_time": "2022-05-17T20:04:42.311863",
     "exception": false,
     "start_time": "2022-05-17T20:04:42.250878",
     "status": "completed"
    },
    "scrolled": true,
    "tags": []
   },
   "outputs": [
    {
     "data": {
      "text/html": [
       "<div>\n",
       "<style scoped>\n",
       "    .dataframe tbody tr th:only-of-type {\n",
       "        vertical-align: middle;\n",
       "    }\n",
       "\n",
       "    .dataframe tbody tr th {\n",
       "        vertical-align: top;\n",
       "    }\n",
       "\n",
       "    .dataframe thead tr th {\n",
       "        text-align: left;\n",
       "    }\n",
       "\n",
       "    .dataframe thead tr:last-of-type th {\n",
       "        text-align: right;\n",
       "    }\n",
       "</style>\n",
       "<table border=\"1\" class=\"dataframe\">\n",
       "  <thead>\n",
       "    <tr>\n",
       "      <th></th>\n",
       "      <th></th>\n",
       "      <th colspan=\"3\" halign=\"left\">ride_distance(km)</th>\n",
       "    </tr>\n",
       "    <tr>\n",
       "      <th></th>\n",
       "      <th></th>\n",
       "      <th>mean</th>\n",
       "      <th>min</th>\n",
       "      <th>max</th>\n",
       "    </tr>\n",
       "    <tr>\n",
       "      <th>weekday</th>\n",
       "      <th>member_casual</th>\n",
       "      <th></th>\n",
       "      <th></th>\n",
       "      <th></th>\n",
       "    </tr>\n",
       "  </thead>\n",
       "  <tbody>\n",
       "    <tr>\n",
       "      <th rowspan=\"2\" valign=\"top\">0</th>\n",
       "      <th>casual</th>\n",
       "      <td>2.558118</td>\n",
       "      <td>0.500027</td>\n",
       "      <td>29.019999</td>\n",
       "    </tr>\n",
       "    <tr>\n",
       "      <th>member</th>\n",
       "      <td>2.314225</td>\n",
       "      <td>0.500049</td>\n",
       "      <td>25.211602</td>\n",
       "    </tr>\n",
       "    <tr>\n",
       "      <th rowspan=\"2\" valign=\"top\">1</th>\n",
       "      <th>casual</th>\n",
       "      <td>2.545767</td>\n",
       "      <td>0.500041</td>\n",
       "      <td>30.058708</td>\n",
       "    </tr>\n",
       "    <tr>\n",
       "      <th>member</th>\n",
       "      <td>2.317545</td>\n",
       "      <td>0.500017</td>\n",
       "      <td>23.637336</td>\n",
       "    </tr>\n",
       "    <tr>\n",
       "      <th rowspan=\"2\" valign=\"top\">2</th>\n",
       "      <th>casual</th>\n",
       "      <td>2.545386</td>\n",
       "      <td>0.500030</td>\n",
       "      <td>31.886446</td>\n",
       "    </tr>\n",
       "    <tr>\n",
       "      <th>member</th>\n",
       "      <td>2.327257</td>\n",
       "      <td>0.500001</td>\n",
       "      <td>24.739052</td>\n",
       "    </tr>\n",
       "    <tr>\n",
       "      <th rowspan=\"2\" valign=\"top\">3</th>\n",
       "      <th>casual</th>\n",
       "      <td>2.534006</td>\n",
       "      <td>0.500040</td>\n",
       "      <td>29.807062</td>\n",
       "    </tr>\n",
       "    <tr>\n",
       "      <th>member</th>\n",
       "      <td>2.308775</td>\n",
       "      <td>0.500040</td>\n",
       "      <td>26.327777</td>\n",
       "    </tr>\n",
       "    <tr>\n",
       "      <th rowspan=\"2\" valign=\"top\">4</th>\n",
       "      <th>casual</th>\n",
       "      <td>2.563291</td>\n",
       "      <td>0.500005</td>\n",
       "      <td>32.190498</td>\n",
       "    </tr>\n",
       "    <tr>\n",
       "      <th>member</th>\n",
       "      <td>2.328078</td>\n",
       "      <td>0.500040</td>\n",
       "      <td>27.672977</td>\n",
       "    </tr>\n",
       "    <tr>\n",
       "      <th rowspan=\"2\" valign=\"top\">5</th>\n",
       "      <th>casual</th>\n",
       "      <td>2.699378</td>\n",
       "      <td>0.500054</td>\n",
       "      <td>30.167007</td>\n",
       "    </tr>\n",
       "    <tr>\n",
       "      <th>member</th>\n",
       "      <td>2.474187</td>\n",
       "      <td>0.500033</td>\n",
       "      <td>25.208384</td>\n",
       "    </tr>\n",
       "    <tr>\n",
       "      <th rowspan=\"2\" valign=\"top\">6</th>\n",
       "      <th>casual</th>\n",
       "      <td>2.740619</td>\n",
       "      <td>0.500101</td>\n",
       "      <td>30.989006</td>\n",
       "    </tr>\n",
       "    <tr>\n",
       "      <th>member</th>\n",
       "      <td>2.488729</td>\n",
       "      <td>0.500035</td>\n",
       "      <td>32.002739</td>\n",
       "    </tr>\n",
       "  </tbody>\n",
       "</table>\n",
       "</div>"
      ],
      "text/plain": [
       "                      ride_distance(km)                     \n",
       "                                   mean       min        max\n",
       "weekday member_casual                                       \n",
       "0       casual                 2.558118  0.500027  29.019999\n",
       "        member                 2.314225  0.500049  25.211602\n",
       "1       casual                 2.545767  0.500041  30.058708\n",
       "        member                 2.317545  0.500017  23.637336\n",
       "2       casual                 2.545386  0.500030  31.886446\n",
       "        member                 2.327257  0.500001  24.739052\n",
       "3       casual                 2.534006  0.500040  29.807062\n",
       "        member                 2.308775  0.500040  26.327777\n",
       "4       casual                 2.563291  0.500005  32.190498\n",
       "        member                 2.328078  0.500040  27.672977\n",
       "5       casual                 2.699378  0.500054  30.167007\n",
       "        member                 2.474187  0.500033  25.208384\n",
       "6       casual                 2.740619  0.500101  30.989006\n",
       "        member                 2.488729  0.500035  32.002739"
      ]
     },
     "execution_count": 19,
     "metadata": {},
     "output_type": "execute_result"
    }
   ],
   "source": [
    "gm"
   ]
  },
  {
   "cell_type": "code",
   "execution_count": 20,
   "id": "54bf44a2",
   "metadata": {
    "execution": {
     "iopub.execute_input": "2022-05-17T20:04:42.399843Z",
     "iopub.status.busy": "2022-05-17T20:04:42.399432Z",
     "iopub.status.idle": "2022-05-17T20:04:43.117273Z",
     "shell.execute_reply": "2022-05-17T20:04:43.116422Z"
    },
    "papermill": {
     "duration": 0.7654,
     "end_time": "2022-05-17T20:04:43.120219",
     "exception": false,
     "start_time": "2022-05-17T20:04:42.354819",
     "status": "completed"
    },
    "scrolled": true,
    "tags": []
   },
   "outputs": [
    {
     "data": {
      "text/html": [
       "<div>\n",
       "<style scoped>\n",
       "    .dataframe tbody tr th:only-of-type {\n",
       "        vertical-align: middle;\n",
       "    }\n",
       "\n",
       "    .dataframe tbody tr th {\n",
       "        vertical-align: top;\n",
       "    }\n",
       "\n",
       "    .dataframe thead tr th {\n",
       "        text-align: left;\n",
       "    }\n",
       "\n",
       "    .dataframe thead tr:last-of-type th {\n",
       "        text-align: right;\n",
       "    }\n",
       "</style>\n",
       "<table border=\"1\" class=\"dataframe\">\n",
       "  <thead>\n",
       "    <tr>\n",
       "      <th></th>\n",
       "      <th></th>\n",
       "      <th colspan=\"3\" halign=\"left\">time_diff(s)</th>\n",
       "    </tr>\n",
       "    <tr>\n",
       "      <th></th>\n",
       "      <th></th>\n",
       "      <th>mean</th>\n",
       "      <th>min</th>\n",
       "      <th>max</th>\n",
       "    </tr>\n",
       "    <tr>\n",
       "      <th>weekday</th>\n",
       "      <th>member_casual</th>\n",
       "      <th></th>\n",
       "      <th></th>\n",
       "      <th></th>\n",
       "    </tr>\n",
       "  </thead>\n",
       "  <tbody>\n",
       "    <tr>\n",
       "      <th rowspan=\"2\" valign=\"top\">0</th>\n",
       "      <th>casual</th>\n",
       "      <td>1367.092216</td>\n",
       "      <td>31.0</td>\n",
       "      <td>17974.0</td>\n",
       "    </tr>\n",
       "    <tr>\n",
       "      <th>member</th>\n",
       "      <td>777.229439</td>\n",
       "      <td>30.0</td>\n",
       "      <td>17767.0</td>\n",
       "    </tr>\n",
       "    <tr>\n",
       "      <th rowspan=\"2\" valign=\"top\">1</th>\n",
       "      <th>casual</th>\n",
       "      <td>1225.807469</td>\n",
       "      <td>30.0</td>\n",
       "      <td>17973.0</td>\n",
       "    </tr>\n",
       "    <tr>\n",
       "      <th>member</th>\n",
       "      <td>760.367538</td>\n",
       "      <td>30.0</td>\n",
       "      <td>17990.0</td>\n",
       "    </tr>\n",
       "    <tr>\n",
       "      <th rowspan=\"2\" valign=\"top\">2</th>\n",
       "      <th>casual</th>\n",
       "      <td>1194.307504</td>\n",
       "      <td>30.0</td>\n",
       "      <td>17987.0</td>\n",
       "    </tr>\n",
       "    <tr>\n",
       "      <th>member</th>\n",
       "      <td>764.791838</td>\n",
       "      <td>31.0</td>\n",
       "      <td>17986.0</td>\n",
       "    </tr>\n",
       "    <tr>\n",
       "      <th rowspan=\"2\" valign=\"top\">3</th>\n",
       "      <th>casual</th>\n",
       "      <td>1184.684658</td>\n",
       "      <td>31.0</td>\n",
       "      <td>17969.0</td>\n",
       "    </tr>\n",
       "    <tr>\n",
       "      <th>member</th>\n",
       "      <td>759.624221</td>\n",
       "      <td>30.0</td>\n",
       "      <td>17921.0</td>\n",
       "    </tr>\n",
       "    <tr>\n",
       "      <th rowspan=\"2\" valign=\"top\">4</th>\n",
       "      <th>casual</th>\n",
       "      <td>1290.426835</td>\n",
       "      <td>30.0</td>\n",
       "      <td>17990.0</td>\n",
       "    </tr>\n",
       "    <tr>\n",
       "      <th>member</th>\n",
       "      <td>791.434567</td>\n",
       "      <td>30.0</td>\n",
       "      <td>18000.0</td>\n",
       "    </tr>\n",
       "    <tr>\n",
       "      <th rowspan=\"2\" valign=\"top\">5</th>\n",
       "      <th>casual</th>\n",
       "      <td>1515.080487</td>\n",
       "      <td>30.0</td>\n",
       "      <td>17999.0</td>\n",
       "    </tr>\n",
       "    <tr>\n",
       "      <th>member</th>\n",
       "      <td>900.257890</td>\n",
       "      <td>32.0</td>\n",
       "      <td>17982.0</td>\n",
       "    </tr>\n",
       "    <tr>\n",
       "      <th rowspan=\"2\" valign=\"top\">6</th>\n",
       "      <th>casual</th>\n",
       "      <td>1576.688714</td>\n",
       "      <td>30.0</td>\n",
       "      <td>17996.0</td>\n",
       "    </tr>\n",
       "    <tr>\n",
       "      <th>member</th>\n",
       "      <td>915.860634</td>\n",
       "      <td>30.0</td>\n",
       "      <td>17827.0</td>\n",
       "    </tr>\n",
       "  </tbody>\n",
       "</table>\n",
       "</div>"
      ],
      "text/plain": [
       "                      time_diff(s)               \n",
       "                              mean   min      max\n",
       "weekday member_casual                            \n",
       "0       casual         1367.092216  31.0  17974.0\n",
       "        member          777.229439  30.0  17767.0\n",
       "1       casual         1225.807469  30.0  17973.0\n",
       "        member          760.367538  30.0  17990.0\n",
       "2       casual         1194.307504  30.0  17987.0\n",
       "        member          764.791838  31.0  17986.0\n",
       "3       casual         1184.684658  31.0  17969.0\n",
       "        member          759.624221  30.0  17921.0\n",
       "4       casual         1290.426835  30.0  17990.0\n",
       "        member          791.434567  30.0  18000.0\n",
       "5       casual         1515.080487  30.0  17999.0\n",
       "        member          900.257890  32.0  17982.0\n",
       "6       casual         1576.688714  30.0  17996.0\n",
       "        member          915.860634  30.0  17827.0"
      ]
     },
     "execution_count": 20,
     "metadata": {},
     "output_type": "execute_result"
    }
   ],
   "source": [
    "#Summary of ride duriation of members in each day of week\n",
    "gt = dvt.groupby(['weekday', 'member_casual']).agg({'time_diff(s)': ['mean', 'min', 'max']})\n",
    "gt"
   ]
  },
  {
   "cell_type": "markdown",
   "id": "ea2fecc2",
   "metadata": {
    "papermill": {
     "duration": 0.044005,
     "end_time": "2022-05-17T20:04:43.208811",
     "exception": false,
     "start_time": "2022-05-17T20:04:43.164806",
     "status": "completed"
    },
    "tags": []
   },
   "source": [
    "## **Visualization**"
   ]
  },
  {
   "cell_type": "markdown",
   "id": "cc4dd6ce",
   "metadata": {
    "papermill": {
     "duration": 0.044708,
     "end_time": "2022-05-17T20:04:43.298014",
     "exception": false,
     "start_time": "2022-05-17T20:04:43.253306",
     "status": "completed"
    },
    "tags": []
   },
   "source": [
    "Here the [link](https://public.tableau.com/views/GoogleDAcycle/MembersizeandBiketypes?:language=en-US&:display_count=n&:origin=viz_share_link) of visualization made by Tableau."
   ]
  },
  {
   "cell_type": "code",
   "execution_count": 21,
   "id": "c7be6b14",
   "metadata": {
    "execution": {
     "iopub.execute_input": "2022-05-17T20:04:43.388241Z",
     "iopub.status.busy": "2022-05-17T20:04:43.387483Z",
     "iopub.status.idle": "2022-05-17T20:04:43.391847Z",
     "shell.execute_reply": "2022-05-17T20:04:43.391256Z"
    },
    "papermill": {
     "duration": 0.051586,
     "end_time": "2022-05-17T20:04:43.393797",
     "exception": false,
     "start_time": "2022-05-17T20:04:43.342211",
     "status": "completed"
    },
    "tags": []
   },
   "outputs": [],
   "source": [
    "from PIL import Image\n",
    "from IPython.display import display"
   ]
  },
  {
   "cell_type": "code",
   "execution_count": 22,
   "id": "fa71d7c2",
   "metadata": {
    "execution": {
     "iopub.execute_input": "2022-05-17T20:04:43.484345Z",
     "iopub.status.busy": "2022-05-17T20:04:43.483778Z",
     "iopub.status.idle": "2022-05-17T20:04:43.523281Z",
     "shell.execute_reply": "2022-05-17T20:04:43.522527Z"
    },
    "papermill": {
     "duration": 0.087341,
     "end_time": "2022-05-17T20:04:43.525477",
     "exception": false,
     "start_time": "2022-05-17T20:04:43.438136",
     "status": "completed"
    },
    "tags": []
   },
   "outputs": [
    {
     "data": {
      "image/png": "[encoded data removed]",
      "text/plain": [
       "<PIL.PngImagePlugin.PngImageFile image mode=RGB size=346x713 at 0x7F9BD2B52190>"
      ]
     },
     "metadata": {},
     "output_type": "display_data"
    }
   ],
   "source": [
    "#Customer Types Distribution\n",
    "image1 = Image.open('../input/cyclist-plots-made-by-tableau/Customer Types distribution.png')\n",
    "display(image1)"
   ]
  },
  {
   "cell_type": "markdown",
   "id": "b526b305",
   "metadata": {
    "papermill": {
     "duration": 0.044933,
     "end_time": "2022-05-17T20:04:43.616075",
     "exception": false,
     "start_time": "2022-05-17T20:04:43.571142",
     "status": "completed"
    },
    "tags": []
   },
   "source": [
    "Total mamber riders are 26% more than casual riders"
   ]
  },
  {
   "cell_type": "code",
   "execution_count": 23,
   "id": "a0cadffb",
   "metadata": {
    "execution": {
     "iopub.execute_input": "2022-05-17T20:04:43.708801Z",
     "iopub.status.busy": "2022-05-17T20:04:43.708243Z",
     "iopub.status.idle": "2022-05-17T20:04:43.733637Z",
     "shell.execute_reply": "2022-05-17T20:04:43.732862Z"
    },
    "papermill": {
     "duration": 0.074337,
     "end_time": "2022-05-17T20:04:43.735650",
     "exception": false,
     "start_time": "2022-05-17T20:04:43.661313",
     "status": "completed"
    },
    "tags": []
   },
   "outputs": [
    {
     "data": {
      "image/png": "[encoded data removed]",
      "text/plain": [
       "<PIL.PngImagePlugin.PngImageFile image mode=RGB size=392x572 at 0x7F9C22D79650>"
      ]
     },
     "metadata": {},
     "output_type": "display_data"
    }
   ],
   "source": [
    "#Bike types with different member types\n",
    "image2 = Image.open('../input/cyclist-plots-made-by-tableau/Member size and Bike types.png')\n",
    "display(image2)"
   ]
  },
  {
   "cell_type": "markdown",
   "id": "6f9be342",
   "metadata": {
    "papermill": {
     "duration": 0.046842,
     "end_time": "2022-05-17T20:04:43.831736",
     "exception": false,
     "start_time": "2022-05-17T20:04:43.784894",
     "status": "completed"
    },
    "tags": []
   },
   "source": [
    "Both casual riders and member riders used classic bikes the most."
   ]
  },
  {
   "cell_type": "code",
   "execution_count": 24,
   "id": "53c16792",
   "metadata": {
    "execution": {
     "iopub.execute_input": "2022-05-17T20:04:43.929281Z",
     "iopub.status.busy": "2022-05-17T20:04:43.928850Z",
     "iopub.status.idle": "2022-05-17T20:04:43.990233Z",
     "shell.execute_reply": "2022-05-17T20:04:43.989294Z"
    },
    "papermill": {
     "duration": 0.113597,
     "end_time": "2022-05-17T20:04:43.992627",
     "exception": false,
     "start_time": "2022-05-17T20:04:43.879030",
     "status": "completed"
    },
    "tags": []
   },
   "outputs": [
    {
     "data": {
      "image/png": "[encoded data removed]",
      "text/plain": [
       "<PIL.PngImagePlugin.PngImageFile image mode=RGB size=1060x685 at 0x7F9C22D79390>"
      ]
     },
     "metadata": {},
     "output_type": "display_data"
    }
   ],
   "source": [
    "#Total Trips by customer in days of week\n",
    "image3 = Image.open('../input/cyclist-plots-made-by-tableau/Total Trips by customer in Days of Week.png')\n",
    "display(image3)"
   ]
  },
  {
   "cell_type": "markdown",
   "id": "2cca1da8",
   "metadata": {
    "papermill": {
     "duration": 0.047837,
     "end_time": "2022-05-17T20:04:44.088982",
     "exception": false,
     "start_time": "2022-05-17T20:04:44.041145",
     "status": "completed"
    },
    "tags": []
   },
   "source": [
    "This graph shows casual riders are more active in weekends which is 26% more than member riders."
   ]
  },
  {
   "cell_type": "code",
   "execution_count": 25,
   "id": "e1e6e421",
   "metadata": {
    "execution": {
     "iopub.execute_input": "2022-05-17T20:04:44.186570Z",
     "iopub.status.busy": "2022-05-17T20:04:44.186261Z",
     "iopub.status.idle": "2022-05-17T20:04:44.246814Z",
     "shell.execute_reply": "2022-05-17T20:04:44.245888Z"
    },
    "papermill": {
     "duration": 0.112024,
     "end_time": "2022-05-17T20:04:44.249013",
     "exception": false,
     "start_time": "2022-05-17T20:04:44.136989",
     "status": "completed"
    },
    "tags": []
   },
   "outputs": [
    {
     "data": {
      "image/png": "[encoded data removed]",
      "text/plain": [
       "<PIL.PngImagePlugin.PngImageFile image mode=RGB size=1180x685 at 0x7F9C22D79850>"
      ]
     },
     "metadata": {},
     "output_type": "display_data"
    }
   ],
   "source": [
    "#Total Trips by customer in Months\n",
    "image4 = Image.open('../input/cyclist-plots-made-by-tableau/Total Trips by customer in Months.png')\n",
    "display(image4)"
   ]
  },
  {
   "cell_type": "markdown",
   "id": "d037988d",
   "metadata": {
    "papermill": {
     "duration": 0.0501,
     "end_time": "2022-05-17T20:04:44.349773",
     "exception": false,
     "start_time": "2022-05-17T20:04:44.299673",
     "status": "completed"
    },
    "tags": []
   },
   "source": [
    "This graph shows that casual riders are more active in July to August which is 6% more than member riders. Other than that, casual riders rarely rent during winter (Jan to Feb and Nov to Dec)."
   ]
  },
  {
   "cell_type": "code",
   "execution_count": 26,
   "id": "691f1554",
   "metadata": {
    "execution": {
     "iopub.execute_input": "2022-05-17T20:04:44.451591Z",
     "iopub.status.busy": "2022-05-17T20:04:44.451266Z",
     "iopub.status.idle": "2022-05-17T20:04:44.508466Z",
     "shell.execute_reply": "2022-05-17T20:04:44.507595Z"
    },
    "papermill": {
     "duration": 0.110777,
     "end_time": "2022-05-17T20:04:44.510602",
     "exception": false,
     "start_time": "2022-05-17T20:04:44.399825",
     "status": "completed"
    },
    "tags": []
   },
   "outputs": [
    {
     "data": {
      "image/png": "[encoded data removed]",
      "text/plain": [
       "<PIL.PngImagePlugin.PngImageFile image mode=RGB size=1048x685 at 0x7F9C22E0A850>"
      ]
     },
     "metadata": {},
     "output_type": "display_data"
    }
   ],
   "source": [
    "#Average ride distance by Customers in days of week\n",
    "image5 = Image.open('../input/cyclist-plots-made-by-tableau/Avg. Ride distances in Days of Week.png')\n",
    "display(image5)"
   ]
  },
  {
   "cell_type": "markdown",
   "id": "814bd123",
   "metadata": {
    "papermill": {
     "duration": 0.052741,
     "end_time": "2022-05-17T20:04:44.616260",
     "exception": false,
     "start_time": "2022-05-17T20:04:44.563519",
     "status": "completed"
    },
    "tags": []
   },
   "source": [
    "This graph shows that casual riders rode further every day of week which is 10% more. Casual riders usually rode 2.6 km in average, and member riders rode 2.37 km every day."
   ]
  },
  {
   "cell_type": "code",
   "execution_count": 27,
   "id": "a50a52c5",
   "metadata": {
    "execution": {
     "iopub.execute_input": "2022-05-17T20:04:44.720527Z",
     "iopub.status.busy": "2022-05-17T20:04:44.720214Z",
     "iopub.status.idle": "2022-05-17T20:04:44.777717Z",
     "shell.execute_reply": "2022-05-17T20:04:44.776808Z"
    },
    "papermill": {
     "duration": 0.112186,
     "end_time": "2022-05-17T20:04:44.779798",
     "exception": false,
     "start_time": "2022-05-17T20:04:44.667612",
     "status": "completed"
    },
    "tags": []
   },
   "outputs": [
    {
     "data": {
      "image/png": "[encoded data removed]",
      "text/plain": [
       "<PIL.PngImagePlugin.PngImageFile image mode=RGB size=1168x685 at 0x7F9C22D79B90>"
      ]
     },
     "metadata": {},
     "output_type": "display_data"
    }
   ],
   "source": [
    "#Average ride distance by Customers in Months\n",
    "image6 = Image.open('../input/cyclist-plots-made-by-tableau/Avg. Ride distances in Months.png')\n",
    "display(image6)"
   ]
  },
  {
   "cell_type": "markdown",
   "id": "9b81b89e",
   "metadata": {
    "papermill": {
     "duration": 0.05267,
     "end_time": "2022-05-17T20:04:44.885895",
     "exception": false,
     "start_time": "2022-05-17T20:04:44.833225",
     "status": "completed"
    },
    "tags": []
   },
   "source": [
    "This graph shows that casual riders rode further every month"
   ]
  },
  {
   "cell_type": "code",
   "execution_count": 28,
   "id": "1ab64639",
   "metadata": {
    "execution": {
     "iopub.execute_input": "2022-05-17T20:04:44.994745Z",
     "iopub.status.busy": "2022-05-17T20:04:44.994426Z",
     "iopub.status.idle": "2022-05-17T20:04:45.047416Z",
     "shell.execute_reply": "2022-05-17T20:04:45.046318Z"
    },
    "papermill": {
     "duration": 0.110214,
     "end_time": "2022-05-17T20:04:45.049924",
     "exception": false,
     "start_time": "2022-05-17T20:04:44.939710",
     "status": "completed"
    },
    "tags": []
   },
   "outputs": [
    {
     "data": {
      "image/png": "[encoded data removed]",
      "text/plain": [
       "<PIL.PngImagePlugin.PngImageFile image mode=RGB size=1059x685 at 0x7F9C22D81990>"
      ]
     },
     "metadata": {},
     "output_type": "display_data"
    }
   ],
   "source": [
    "##Average time spent by Customers in days of week\n",
    "image7 = Image.open('../input/cyclist-plots-made-by-tableau/Avg. Time spent in Days of Week.png')\n",
    "display(image7)"
   ]
  },
  {
   "cell_type": "markdown",
   "id": "d30b5939",
   "metadata": {
    "papermill": {
     "duration": 0.057403,
     "end_time": "2022-05-17T20:04:45.165486",
     "exception": false,
     "start_time": "2022-05-17T20:04:45.108083",
     "status": "completed"
    },
    "tags": []
   },
   "source": [
    "This graph shows casual riders spent more time on riding every day of week which is 65% more. Casual riders usually spent 22 minutes in average, and member riders spent 13 minutes every day."
   ]
  },
  {
   "cell_type": "markdown",
   "id": "fb8f4d78",
   "metadata": {
    "papermill": {
     "duration": 0.055123,
     "end_time": "2022-05-17T20:04:45.277140",
     "exception": false,
     "start_time": "2022-05-17T20:04:45.222017",
     "status": "completed"
    },
    "tags": []
   },
   "source": [
    "## **Takeaways**\n",
    "\n",
    "* Annual members are 26% more than casual riders.\n",
    "* Casual riders rent 10% more than annual members in weekends.\n",
    "* Casual riders rent 6% more than annual members in July to August(Summer) and they rarely rent bikes in January to February (Winter).\n",
    "* Annual mamber rode 2.3 km in average every day, and casual riders rode 2.6 km in average which is 10% further.\n",
    "* Annual mamber spent 13 minutes in average every day, and casual riders spent 22 minutes in average which is 65% more in total."
   ]
  },
  {
   "cell_type": "markdown",
   "id": "82a91829",
   "metadata": {
    "papermill": {
     "duration": 0.055944,
     "end_time": "2022-05-17T20:04:45.389765",
     "exception": false,
     "start_time": "2022-05-17T20:04:45.333821",
     "status": "completed"
    },
    "tags": []
   },
   "source": [
    "## **Recommendations**\n",
    "\n",
    "* Offer weekends discount for annual membership.\n",
    "* Offer summer discount for annual membership.\n",
    "* Offer special discount when annual members can ride more than 2.5 km each time.\n",
    "* Get special discount or cupon for annual members who accumulate specific mileage. "
   ]
  }
 ],
 "metadata": {
  "kernelspec": {
   "display_name": "Python 3",
   "language": "python",
   "name": "python3"
  },
  "language_info": {
   "codemirror_mode": {
    "name": "ipython",
    "version": 3
   },
   "file_extension": ".py",
   "mimetype": "text/x-python",
   "name": "python",
   "nbconvert_exporter": "python",
   "pygments_lexer": "ipython3",
   "version": "3.7.12"
  },
  "papermill": {
   "default_parameters": {},
   "duration": 113.380481,
   "end_time": "2022-05-17T20:04:47.375769",
   "environment_variables": {},
   "exception": null,
   "input_path": "__notebook__.ipynb",
   "output_path": "__notebook__.ipynb",
   "parameters": {},
   "start_time": "2022-05-17T20:02:53.995288",
   "version": "2.3.4"
  }
 },
 "nbformat": 4,
 "nbformat_minor": 5
}
